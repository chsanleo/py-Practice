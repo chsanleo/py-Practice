{
  "nbformat": 4,
  "nbformat_minor": 0,
  "metadata": {
    "colab": {
      "provenance": [],
      "authorship_tag": "ABX9TyNrMOYb8/oepFT7+7mNsFaL",
      "include_colab_link": true
    },
    "kernelspec": {
      "name": "python3",
      "display_name": "Python 3"
    },
    "language_info": {
      "name": "python"
    }
  },
  "cells": [
    {
      "cell_type": "markdown",
      "metadata": {
        "id": "view-in-github",
        "colab_type": "text"
      },
      "source": [
        "<a href=\"https://colab.research.google.com/github/chsanleo/py-Practice/blob/main/KataPython1.ipynb\" target=\"_parent\"><img src=\"https://colab.research.google.com/assets/colab-badge.svg\" alt=\"Open In Colab\"/></a>"
      ]
    },
    {
      "cell_type": "markdown",
      "source": [
        "Ejercicios de Python"
      ],
      "metadata": {
        "id": "akTk8R-SPlhB"
      }
    },
    {
      "cell_type": "markdown",
      "source": [
        "Ejercicio 1. Si el semaforo esta en verde, cruzar la calle. Sino, esperar:"
      ],
      "metadata": {
        "id": "g5dNPmQGPsu3"
      }
    },
    {
      "cell_type": "code",
      "source": [
        "def cruzar_la_calle(semaforo):\n",
        "  if semaforo == \"verde\":\n",
        "    print(\"Se puede cruzar la calle\")\n",
        "  else:\n",
        "    print(\"Esperar\")\n",
        "\n",
        "semaforo = \"rojo\"\n",
        "# semaforo = \"amarillo\"\n",
        "# semaforo = \"verde\"\n",
        "\n",
        "\n",
        "cruzar_la_calle(semaforo)\n"
      ],
      "metadata": {
        "colab": {
          "base_uri": "https://localhost:8080/"
        },
        "id": "8J-XZweiPl2k",
        "outputId": "db5ce713-6a89-4bd0-9196-23b922cb3abe"
      },
      "execution_count": 1,
      "outputs": [
        {
          "output_type": "stream",
          "name": "stdout",
          "text": [
            "Esperar\n"
          ]
        }
      ]
    },
    {
      "cell_type": "markdown",
      "source": [
        "Ejercicio 2. Si la compra es mayor a 100€, obtengo un descuento del 10%"
      ],
      "metadata": {
        "id": "8SYXFim-QQPj"
      }
    },
    {
      "cell_type": "code",
      "source": [
        "def total(precioCompra):\n",
        "  descuento = 10/100\n",
        "  if precioCompra >= 100:\n",
        "    precioCompra = precioCompra - (precioCompra * descuento)\n",
        "  \n",
        "  print(\"El precio total de la compra es de: \" + str(precioCompra))\n",
        "\n",
        "\n",
        "precioCompra = 2000;\n",
        "total(precioCompra)"
      ],
      "metadata": {
        "colab": {
          "base_uri": "https://localhost:8080/"
        },
        "id": "ZOlJHdw-Ri3j",
        "outputId": "22d73825-09f2-487f-ce01-c560814dbe8b"
      },
      "execution_count": 4,
      "outputs": [
        {
          "output_type": "stream",
          "name": "stdout",
          "text": [
            "El precio total de la compra es de: 1800.0\n"
          ]
        }
      ]
    },
    {
      "cell_type": "markdown",
      "source": [
        "Ejercicio 3. Mientras que año sea menor o igual que 2055, imprimir la frase \"Informes del Año año\""
      ],
      "metadata": {
        "id": "Zi_ugw2PVd58"
      }
    },
    {
      "cell_type": "code",
      "source": [
        "def imprimirCabecera(anyo):\n",
        "  while anyo <= 2055:\n",
        "    print(\"Informes del Año \", str(anyo))\n",
        "    anyo += 1\n",
        "  print(\"FIN\")\n",
        "  \n",
        "anyo = 2050\n",
        "#anyo = 2056\n",
        "imprimirCabecera(anyo)"
      ],
      "metadata": {
        "colab": {
          "base_uri": "https://localhost:8080/"
        },
        "id": "6hP2Lyx6Vn4j",
        "outputId": "522dc7dc-8f70-45ed-e23c-a9563f4ce6d0"
      },
      "execution_count": 11,
      "outputs": [
        {
          "output_type": "stream",
          "name": "stdout",
          "text": [
            "Informes del Año  2050\n",
            "Informes del Año  2051\n",
            "Informes del Año  2052\n",
            "Informes del Año  2053\n",
            "Informes del Año  2054\n",
            "Informes del Año  2055\n",
            "FIN\n"
          ]
        }
      ]
    },
    {
      "cell_type": "markdown",
      "source": [
        "Ejercicio 4. Por cada nombre en mi_list, imprimir nombre"
      ],
      "metadata": {
        "id": "Cr31GF29W-CX"
      }
    },
    {
      "cell_type": "code",
      "source": [
        "def imprimirNombre (mi_lista):\n",
        "  for nombre in mi_lista:\n",
        "    print(nombre)  \n",
        "\n",
        "mi_lista = [\"Christian\", \"Cherry\", \"Ethan\"]\n",
        "imprimirNombre(mi_lista)"
      ],
      "metadata": {
        "colab": {
          "base_uri": "https://localhost:8080/"
        },
        "id": "PnerHa-hXRKW",
        "outputId": "098cc64e-f360-44b5-a3de-8a9c43447bb3"
      },
      "execution_count": 13,
      "outputs": [
        {
          "output_type": "stream",
          "name": "stdout",
          "text": [
            "Christian\n",
            "Cherry\n",
            "Ethan\n"
          ]
        }
      ]
    },
    {
      "cell_type": "markdown",
      "source": [
        "Ejercicio 5. Serie Fibonacci"
      ],
      "metadata": {
        "id": "NADd4PsxZKDx"
      }
    },
    {
      "cell_type": "code",
      "source": [
        "def Fibonacci(n):\n",
        "  if n<0:\n",
        "    print(\"Incorrect Input\")\n",
        "  elif n ==1:\n",
        "    return 0\n",
        "  elif n == 2:\n",
        "    return 1\n",
        "  else:\n",
        "    return Fibonacci(n-1)+Fibonacci(n-2)\n",
        "\n",
        "def Fibonacci2(n):\n",
        "  a,b = 0,1\n",
        "  while a<n:\n",
        "    print(a,end= \" \")\n",
        "    a, b = b, a+b\n",
        "    print(b)\n",
        "\n",
        "\n",
        "\n",
        "Fibonacci2(7)"
      ],
      "metadata": {
        "colab": {
          "base_uri": "https://localhost:8080/"
        },
        "id": "axI73MAWZJtK",
        "outputId": "4f54b574-c572-4378-d556-9504430698d0"
      },
      "execution_count": 17,
      "outputs": [
        {
          "output_type": "stream",
          "name": "stdout",
          "text": [
            "0 1\n",
            "1 2\n",
            "1 3\n",
            "2 5\n",
            "3 8\n",
            "5 13\n"
          ]
        }
      ]
    },
    {
      "cell_type": "markdown",
      "source": [
        "Ejercicio 6. Imprimir los numeros impares en un rango dado"
      ],
      "metadata": {
        "id": "ysiBgwrOblC2"
      }
    },
    {
      "cell_type": "code",
      "source": [
        "def imprimirImpares(start, end):\n",
        "  n = start\n",
        "  while n <= end:\n",
        "    if n%2 != 0:\n",
        "      print (n, end= \" \")\n",
        "    n += 1\n",
        "\n",
        "def imprimirImpares2 (start, end):\n",
        "  for num in range(start, end+1):\n",
        "    if num%2 != 0:\n",
        "      print (num, end = \" \")\n",
        "\n",
        "\n",
        "imprimirImpares2(4, 19)\n"
      ],
      "metadata": {
        "colab": {
          "base_uri": "https://localhost:8080/"
        },
        "id": "N7jgO_6YbrQM",
        "outputId": "206a460f-6fd6-4ca7-e68a-c933675e9a43"
      },
      "execution_count": 22,
      "outputs": [
        {
          "output_type": "stream",
          "name": "stdout",
          "text": [
            "5 7 9 11 13 15 17 19 "
          ]
        }
      ]
    },
    {
      "cell_type": "markdown",
      "source": [
        "Ejercicio 8. Calcular el indice de masa corporal e imprimirlo por pantalla"
      ],
      "metadata": {
        "id": "uNW5EjBJdJHu"
      }
    },
    {
      "cell_type": "code",
      "source": [
        "def bmi(weight, height):\n",
        "  return round(float(weight)/float(height)**2,2)\n",
        "\n",
        "weight = input(\"cual es tu peso en kg)\")\n",
        "height = input(\"Cual es tu altura en m?\")\n",
        "print(\"Tu indice de masa corporal es \"+ str(bmi(weight,height)))"
      ],
      "metadata": {
        "colab": {
          "base_uri": "https://localhost:8080/"
        },
        "id": "HTJE0oTDdlJK",
        "outputId": "ebbd522b-7a73-4fdd-daaa-4705fc0a2497"
      },
      "execution_count": 25,
      "outputs": [
        {
          "output_type": "stream",
          "name": "stdout",
          "text": [
            "cual es tu peso en kg)119\n",
            "Cual es tu altura en m?1.72\n",
            "Tu indice de masa corporal es 40.22\n"
          ]
        }
      ]
    },
    {
      "cell_type": "markdown",
      "source": [
        "Ejercicio 9. Escribir un programa que pregunte al usuario una cantidad a invertir, el interés porcentual anual y el número de años, y muestre por pantalla el capital obtenido en la inversión redondeado con dos decimales"
      ],
      "metadata": {
        "id": "CZLifn5bftTD"
      }
    },
    {
      "cell_type": "code",
      "source": [
        "def obtainedCapital(invested, interest, years):\n",
        "  return round(invested * (interest/100 + 1) ** years,2)\n",
        "\n",
        "invested = float(input(\"Cuanto es el capital a invertir?\"))\n",
        "interest = float(input(\"Cual es el interes porcentual anual?\"))\n",
        "years = int(input(\"Durante cuantos años?\"))\n",
        "\n",
        "print(\"El capital obtenido es de \" + str(obtainedCapital(invested, interest, years)))"
      ],
      "metadata": {
        "colab": {
          "base_uri": "https://localhost:8080/"
        },
        "id": "eE8NDHuXftAR",
        "outputId": "b21a639e-2a22-4c4f-a562-01196f5fb8ac"
      },
      "execution_count": 31,
      "outputs": [
        {
          "output_type": "stream",
          "name": "stdout",
          "text": [
            "Cuanto es el capital a invertir?1000\n",
            "Cual es el interes porcentual anual?3\n",
            "Durante cuantos años?10\n",
            "El capital obtenido es de 1343.92\n"
          ]
        }
      ]
    },
    {
      "cell_type": "markdown",
      "source": [
        "Ejercicio 10. Nuestro objetivo es adivinar el número. Si fallamos nos dirán si es mayor o menor que el número buscado. También poner el número de intentos requeridos."
      ],
      "metadata": {
        "id": "31G95gqWhuG-"
      }
    },
    {
      "cell_type": "code",
      "source": [
        "import random\n",
        "\n",
        "def isTheNumber(number, guess):\n",
        "  if number < guess:\n",
        "    print(\"El numero es menor \")\n",
        "  elif number > guess:\n",
        "    print (\"El numero es mayor \")\n",
        "  else:\n",
        "    print (\"Adivinaste el número, has ganado \")\n",
        "    return True\n",
        "  return False\n",
        "\n",
        "times = 3\n",
        "tried = 0\n",
        "number = random.randrange(11)\n",
        "\n",
        "while tried<times:\n",
        "  print(\"Tienes \"+ str(times- tried) + \" intentos\")\n",
        "  guess = int(input(\"Dime un numero \"))\n",
        "  if isTheNumber(number,guess):\n",
        "    break\n",
        "  tried += 1\n",
        " \n",
        "print(\"Has perdido el Juego\")\n"
      ],
      "metadata": {
        "colab": {
          "base_uri": "https://localhost:8080/"
        },
        "id": "9_GsVLrAhv-R",
        "outputId": "30f1f4f9-ea0c-4605-c38a-64d41577c185"
      },
      "execution_count": 68,
      "outputs": [
        {
          "output_type": "stream",
          "name": "stdout",
          "text": [
            "Tienes 3 intentos\n",
            "Dime un numero 7\n",
            "El numero es menor \n",
            "Tienes 2 intentos\n",
            "Dime un numero 5\n",
            "Adivinaste el número, has ganado \n",
            "Has perdido el Juego\n"
          ]
        }
      ]
    },
    {
      "cell_type": "markdown",
      "source": [
        "Ejercicio 12. Realiza una función llamada intermedio (a,b) que a partir de dos numeros, devuelva su punto intermedio"
      ],
      "metadata": {
        "id": "Xgd0Lv6_scy1"
      }
    },
    {
      "cell_type": "code",
      "source": [
        "def intermedio(a,b):\n",
        "  return (a+b)/2\n",
        "\n",
        "print(intermedio(-12,24))"
      ],
      "metadata": {
        "colab": {
          "base_uri": "https://localhost:8080/"
        },
        "id": "XCvdHRM2snCJ",
        "outputId": "97137d39-2f31-4975-bd4b-a578604d9fcf"
      },
      "execution_count": 44,
      "outputs": [
        {
          "output_type": "stream",
          "name": "stdout",
          "text": [
            "6.0\n"
          ]
        }
      ]
    },
    {
      "cell_type": "markdown",
      "source": [
        "Ejercicio 12+1 Crear una lista de numeroes enteros y devuelva dos listas ordenadas. La primera con los numeros pares y la segunda con los numeros impares"
      ],
      "metadata": {
        "id": "XZCfHZM5uF_f"
      }
    },
    {
      "cell_type": "code",
      "source": [
        "\n",
        "def splitNumbersOddPair(my_list):\n",
        "  pairList, oddList = [], []\n",
        "  my_list.sort()\n",
        "  for number in my_list:\n",
        "    if number%2 == 0:\n",
        "      pairList.append(number)\n",
        "    else:\n",
        "      oddList.append(number)\n",
        "\n",
        "  print(str(oddList))\n",
        "  print(str(pairList))\n",
        "\n",
        "\n",
        "myList = [6,5,2,1]\n",
        "splitNumbersOddPair(myList)"
      ],
      "metadata": {
        "colab": {
          "base_uri": "https://localhost:8080/"
        },
        "id": "5-pw38SCuNmz",
        "outputId": "4ec27b2b-aa23-4205-8fab-84dce4d9704c"
      },
      "execution_count": 55,
      "outputs": [
        {
          "output_type": "stream",
          "name": "stdout",
          "text": [
            "[1, 5]\n",
            "[2, 6]\n"
          ]
        }
      ]
    },
    {
      "cell_type": "markdown",
      "source": [
        "Ejercicio 14. Cuenta regresiva hasta cero a partir de un numero dado"
      ],
      "metadata": {
        "id": "njerB7iBElS2"
      }
    },
    {
      "cell_type": "code",
      "source": [
        "def cuenta_atras(number):\n",
        "  if number == 0:\n",
        "    print (number)\n",
        "  else:\n",
        "    print(number)\n",
        "    number -= 1\n",
        "    cuenta_atras(number)\n",
        "\n",
        "cuenta_atras(5)"
      ],
      "metadata": {
        "colab": {
          "base_uri": "https://localhost:8080/"
        },
        "id": "jOsyoMJEEp53",
        "outputId": "f781f2b2-24e4-42ba-add2-b50157b17198"
      },
      "execution_count": 56,
      "outputs": [
        {
          "output_type": "stream",
          "name": "stdout",
          "text": [
            "5\n",
            "4\n",
            "3\n",
            "2\n",
            "1\n",
            "0\n"
          ]
        }
      ]
    },
    {
      "cell_type": "markdown",
      "source": [
        "Ejercicio 15. Crea una funcion llamada menorque() que nos devuelve en pantalla el numero menor entre dos enteros"
      ],
      "metadata": {
        "id": "Lo4W3tIlIELZ"
      }
    },
    {
      "cell_type": "code",
      "source": [
        "def menorque(a,b):\n",
        "  print(\"a: \", str(a))\n",
        "  print(\"b: \", str(b))\n",
        "  if a<b:\n",
        "    return a\n",
        "  return b\n",
        "\n",
        "print(str(menorque(random.randrange(11), random.randrange(11))))"
      ],
      "metadata": {
        "colab": {
          "base_uri": "https://localhost:8080/"
        },
        "id": "8_-0cRiVIKT_",
        "outputId": "01dc5497-144d-45d3-b2ba-c1eedd6c79ed"
      },
      "execution_count": 65,
      "outputs": [
        {
          "output_type": "stream",
          "name": "stdout",
          "text": [
            "a:  0\n",
            "b:  0\n",
            "0\n"
          ]
        }
      ]
    },
    {
      "cell_type": "markdown",
      "source": [
        "Ejercicio 16. Escribe un programa que solicite al usuario introducir tres números para luego mostrarle el promedio de los tres"
      ],
      "metadata": {
        "id": "5bAqygSNJMsY"
      }
    },
    {
      "cell_type": "code",
      "source": [
        "def average(numA, numB, numC):\n",
        "  return (numA+numB+numC)/3\n",
        "\n",
        "numA = float(input(\"Dame el primer numero: \"))\n",
        "numB = float(input(\"Dame el segundo numero: \"))\n",
        "numC = float(input(\"Dame el tercer numero: \"))\n",
        "print(\"El promedio es: \" + str(average(numA, numB, numC)))"
      ],
      "metadata": {
        "colab": {
          "base_uri": "https://localhost:8080/"
        },
        "id": "yLNwvjQiJW0Z",
        "outputId": "933b5327-543b-4df7-f467-5259ca5dbab1"
      },
      "execution_count": 69,
      "outputs": [
        {
          "output_type": "stream",
          "name": "stdout",
          "text": [
            "Dame el primer numero: 34\n",
            "Dame el segundo numero: 234234\n",
            "Dame el tercer numero: 33.3\n",
            "El promedio es: 78100.43333333333\n"
          ]
        }
      ]
    },
    {
      "cell_type": "markdown",
      "source": [
        "Ejercicio 17. Escribe un programa que permita al usuario introducir una frase y luego un caracter y muestre la frase introducida, pero con todas las ocurrencias del caracter indicado por el usuario reemplazadas por \"-\"."
      ],
      "metadata": {
        "id": "1R_uimIxMq3b"
      }
    },
    {
      "cell_type": "code",
      "source": [
        "def replace(phrase, replaceChar):\n",
        "  newPhrase = \"\";\n",
        "  for c in phrase:\n",
        "    if c == replaceChar:\n",
        "      newPhrase = newPhrase+\"-\"\n",
        "    else:\n",
        "      newPhrase = newPhrase+c\n",
        "  \n",
        "  return newPhrase\n",
        "\n",
        "\n",
        "phrase = input(\"Introduzca una frase: \")\n",
        "repChar = input(\"Introduzca un caracter para reemplazar: \")\n",
        "\n",
        "print(replace(phrase, repChar))\n"
      ],
      "metadata": {
        "colab": {
          "base_uri": "https://localhost:8080/"
        },
        "id": "P11EcwOhM3gG",
        "outputId": "43ea79dd-ae29-4164-dc62-76507114bdb7"
      },
      "execution_count": 70,
      "outputs": [
        {
          "output_type": "stream",
          "name": "stdout",
          "text": [
            "Introduzca una frase: una frase\n",
            "Introduzca un caracter para reemplazar: a\n",
            "un- fr-se\n"
          ]
        }
      ]
    },
    {
      "cell_type": "markdown",
      "source": [
        "Ejercicio 18. Crear una funcion llamada sumatorioNumeros que reciba como parametro un numero y retorne la suma de todos sus digitos"
      ],
      "metadata": {
        "id": "-Zksr_sXYDF3"
      }
    },
    {
      "cell_type": "code",
      "source": [
        "def sumatorioNumeros(number):\n",
        "  total = 0\n",
        "  while number != 0:\n",
        "    lastDigit = number%10\n",
        "    total +=lastDigit\n",
        "    number = number//10\n",
        "  return total\n",
        "\n",
        "\n",
        "number = int(input(\"Deme un numero para hacer el sumatorio: \"))\n",
        "print(\"La suma de los numeros es : \", sumatorioNumeros(number))"
      ],
      "metadata": {
        "colab": {
          "base_uri": "https://localhost:8080/"
        },
        "id": "ATrwkoc_YLv3",
        "outputId": "0a650ad5-f787-4fbb-9180-f98873219215"
      },
      "execution_count": 3,
      "outputs": [
        {
          "output_type": "stream",
          "name": "stdout",
          "text": [
            "Deme un numero para hacer el sumatorio23\n",
            "La suma de los numeros es :  5\n"
          ]
        }
      ]
    },
    {
      "cell_type": "markdown",
      "source": [
        "Ejercicio 19. Escribir un programa que almacene las matrices A y B en una tupla y muestre por pantalla su producto."
      ],
      "metadata": {
        "id": "6ptJIWcpaZLy"
      }
    },
    {
      "cell_type": "code",
      "source": [
        "\n",
        "a = ((1,2,3),(4,5,6))\n",
        "b = ((-1,0),(0,1),(1,1))\n",
        "result = [[0,0],[0,0]]\n",
        "for i in range(len(a)):\n",
        "  for j in range(len(b[0])):\n",
        "    for k in range(len(b)):\n",
        "      result[i][j] += a[i][k]*b[k][j]\n",
        "\n",
        "for i in range(len(result)):\n",
        "  result[i]= tuple(result[i])\n",
        "\n",
        "result = tuple(result)\n",
        "for i in range(len(result)):\n",
        "  print(result[i])"
      ],
      "metadata": {
        "colab": {
          "base_uri": "https://localhost:8080/"
        },
        "id": "VHXNYnYWaYgP",
        "outputId": "fb350585-5966-4818-f970-1c3d6955fb44"
      },
      "execution_count": 5,
      "outputs": [
        {
          "output_type": "stream",
          "name": "stdout",
          "text": [
            "(2, 5)\n",
            "(2, 11)\n"
          ]
        }
      ]
    },
    {
      "cell_type": "markdown",
      "source": [
        "Ejercicio 20. Crear la funcion del tipo abstracto PILA"
      ],
      "metadata": {
        "id": "KHsh5MnccgKa"
      }
    },
    {
      "cell_type": "code",
      "source": [
        "class Pila:\n",
        "  \"\"\" Representa una pila con operaciones de apilar, desapilar y verificar si esta vacia \"\"\"\n",
        "\n",
        "  def __init__(self):\n",
        "    \"\"\"Crea una pila vacia\"\"\"\n",
        "    #La pila vacia se representa con una lsita vacia\n",
        "    self.items = []\n",
        "  \n",
        "  def apilar(self, x):\n",
        "    \"\"\"Agrega el elemento x a la pila \"\"\"\n",
        "    #Apilar es agregar al final de la lista\n",
        "    self.items.append(x)\n",
        "\n",
        "  def desapilar(self):\n",
        "    \"\"\"Devuelve el elemento tope y lo elimina de la pila. Si la pila esta vacia levanta una excepcion\"\"\"\n",
        "    try:\n",
        "      return self.items.pop()\n",
        "    except IndexError:\n",
        "      raise ValueError(\"La pila esta vacia\")\n",
        "\n",
        "  def es_vacia(self):\n",
        "    \"\"\"Devuelve True si la lista esta vacia, False si no\"\"\"\n",
        "    return self.items == []\n",
        "\n",
        "  def desapilar2(self):\n",
        "    if es_vacia(self):\n",
        "      return\n",
        "    return self.items.pop()\n"
      ],
      "metadata": {
        "id": "Hmke13ZTc7Ud"
      },
      "execution_count": null,
      "outputs": []
    }
  ]
}